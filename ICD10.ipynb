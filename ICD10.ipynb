{
 "cells": [
  {
   "cell_type": "code",
   "execution_count": 1,
   "metadata": {},
   "outputs": [],
   "source": [
    "# import raw txt\n",
    "path_import = r'icd10cm_codes_2018.txt'\n",
    "with open(path_import, 'r') as _f:\n",
    "    raw = _f.read()\n",
    "    _f.close()"
   ]
  },
  {
   "cell_type": "code",
   "execution_count": 2,
   "metadata": {},
   "outputs": [],
   "source": [
    "# convert raw txt to dictionary\n",
    "data = {}\n",
    "for rcd in raw.split('\\n'):\n",
    "    if rcd:\n",
    "        data[rcd[:8].strip()] = rcd[8:]"
   ]
  },
  {
   "cell_type": "code",
   "execution_count": 3,
   "metadata": {},
   "outputs": [],
   "source": [
    "def find_code(data, userInputDesc):\n",
    "    returnValues = ''\n",
    "    for key,val in data.items():\n",
    "        if userInputDesc in val:\n",
    "            returnValues += f'{key} - {val} \\n'\n",
    "        elif userInputDesc not in val:\n",
    "            if userInputDesc in key:\n",
    "                returnValues = f'not found, did you mean to search for {val}?'\n",
    "           \n",
    "    return returnValues"
   ]
  },
  {
   "cell_type": "code",
   "execution_count": 4,
   "metadata": {},
   "outputs": [
    {
     "name": "stdout",
     "output_type": "stream",
     "text": [
      "J440 - Chronic obstructive pulmonary disease with acute lower respiratory infection \n",
      "J441 - Chronic obstructive pulmonary disease with (acute) exacerbation \n",
      "J449 - Chronic obstructive pulmonary disease, unspecified \n",
      "N111 - Chronic obstructive pyelonephritis \n",
      "\n"
     ]
    }
   ],
   "source": [
    "#intitial user prompt\n",
    "userPrompt = input(\"Search for a code (type 1) or search for a description (type 2)? \").strip() \n",
    "\n",
    "if userPrompt == '1': #search for code based on code description\n",
    "    userInputDesc = input(\"Type in a code description. \").capitalize().strip()\n",
    "    print(find_code(data, userInputDesc))\n",
    "\n",
    "elif userPrompt == '2': #search for the code description based on code\n",
    "    findDesc = input(\"Type in a code. \").upper().replace(\".\", \"\").strip()\n",
    "    if data[findDesc] == None:\n",
    "        print('None found.') \n",
    "    print(data[findDesc])\n",
    " \n",
    "elif userPrompt != '1' or '2':\n",
    "    print('Not an option, try again') #returns to initial prompt"
   ]
  }
 ],
 "metadata": {
  "kernelspec": {
   "display_name": "Python 3.10.5 64-bit",
   "language": "python",
   "name": "python3"
  },
  "language_info": {
   "codemirror_mode": {
    "name": "ipython",
    "version": 3
   },
   "file_extension": ".py",
   "mimetype": "text/x-python",
   "name": "python",
   "nbconvert_exporter": "python",
   "pygments_lexer": "ipython3",
   "version": "3.10.5"
  },
  "orig_nbformat": 4,
  "vscode": {
   "interpreter": {
    "hash": "aee8b7b246df8f9039afb4144a1f6fd8d2ca17a180786b69acc140d282b71a49"
   }
  }
 },
 "nbformat": 4,
 "nbformat_minor": 2
}
